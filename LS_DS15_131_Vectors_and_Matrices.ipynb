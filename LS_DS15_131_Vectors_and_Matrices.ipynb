{
  "nbformat": 4,
  "nbformat_minor": 0,
  "metadata": {
    "colab": {
      "name": "LS_DS15_131_Vectors_and_Matrices.ipynb",
      "provenance": [],
      "collapsed_sections": [],
      "include_colab_link": true
    },
    "kernelspec": {
      "name": "python3",
      "display_name": "Python 3"
    }
  },
  "cells": [
    {
      "cell_type": "markdown",
      "metadata": {
        "id": "view-in-github",
        "colab_type": "text"
      },
      "source": [
        "<a href=\"https://colab.research.google.com/github/Jace-Hambrick/DS-Unit-1-Sprint-1-Data-Wrangling-and-Storytelling/blob/master/LS_DS15_131_Vectors_and_Matrices.ipynb\" target=\"_parent\"><img src=\"https://colab.research.google.com/assets/colab-badge.svg\" alt=\"Open In Colab\"/></a>"
      ]
    },
    {
      "cell_type": "markdown",
      "metadata": {
        "id": "8XRzC5P9s48F",
        "colab_type": "text"
      },
      "source": [
        "Lambda School Data Science\n",
        "\n",
        "*Unit 1, Sprint 3, Module 1*\n",
        "\n",
        "---\n",
        "\n"
      ]
    },
    {
      "cell_type": "markdown",
      "metadata": {
        "id": "lSw1x2fks8dO",
        "colab_type": "text"
      },
      "source": [
        "# Vectors and Matrices\n",
        "\n",
        "- Student can illustrate why we care about linear algebra in the scope of data science.\n",
        "- Student can graph vectors, identify their dimensionality, calculate their length (norm), and take the dot product of two vectors.\n",
        "- Student can identify the dimensionality of matrices, multiply them, identify when matrix multiplication is a legal operation, and transpose a matrix.\n",
        "- Student can identify special types of square matrices including the identity matrix, as well as find the determinant and inverse of a matrix.\n",
        "- Student can use NumPy to perform basic Linear Algebra operations with Python."
      ]
    },
    {
      "cell_type": "markdown",
      "metadata": {
        "id": "M6Bw-os-tETt",
        "colab_type": "text"
      },
      "source": [
        "# [Why Linear Algebra?](#why-linear-algebra)\n",
        "\n",
        "Student can illustrate why we care about linear algebra in the scope of data science."
      ]
    },
    {
      "cell_type": "markdown",
      "metadata": {
        "id": "U5Vt7Q_N80pJ",
        "colab_type": "text"
      },
      "source": [
        "## Overview\n",
        "\n",
        "Data Science, Machine Learning, and Artificial intelligence is all about getting computers to do things for us better, cheaper, and faster than we could do them ourselves.\n",
        "\n",
        "How do we do that? Computers are good at doing small repetitive tasks (like arithmetic). if we tell them what small repetitive tasks to do in the right order then sometimes all of those combined behaviors will result in something that looks like a human's behavior (or at least the decisions/output look like something a human might decide to do/create).\n",
        "\n",
        "<img alt=\"Le Comte de Belamy - GAN Art\" src=\"https://obvious-art.com/assets/img/comtedorures.jpg\" width='300'>\n",
        "\n",
        "[Le Comte de Belamy](https://obvious-art.com/le-comte-de-belamy.htm)\n",
        "\n",
        "The set of instructions that we give to a computer to complete certain tasks is called an **algorithm**. The better that we can organize the set of instructions, the faster that computers can do them. The method that we use to organize and store our set of instructions so that the computer can do them super fast is called a **data structure**. The practice of optimizing the organization of our data structures so that they run really fast and efficiently is called **computer science**. (This is why we will have a unit dedicated solely to computer science in a few months). Data Scientists should care how fast computers can process their sets of instructions (algorithms)."
      ]
    },
    {
      "cell_type": "markdown",
      "metadata": {
        "id": "QH_6eMXO9GAn",
        "colab_type": "text"
      },
      "source": [
        "## Follow Along\n",
        "\n",
        "Here's a simple data structure, in Python it's known as a **list**. It's one of the simplest ways that we can store things (data) and maintain their order. When giving instructions to a computer, it's important that the computer knows in what order to execute them."
      ]
    },
    {
      "cell_type": "code",
      "metadata": {
        "id": "lh7X4pLJZT6d",
        "colab_type": "code",
        "colab": {}
      },
      "source": [
        "myvar = 5"
      ],
      "execution_count": 0,
      "outputs": []
    },
    {
      "cell_type": "code",
      "metadata": {
        "id": "V2oY39t19X-U",
        "colab_type": "code",
        "colab": {}
      },
      "source": [
        "selfDrivingCarInstructions = [\"open door\", \n",
        "          \"sit on seat\", \n",
        "          \"put key in ignition\", \n",
        "          \"turn key to the right until it stops\", \n",
        "          \"push brake pedal\", \n",
        "          \"change gear to 'Drive'\", \n",
        "          \"release brake pedal\", \n",
        "          \"push gas pedal\",\n",
        "          '''turn wheel to navigate streets with thousands of small rules and \n",
        "          exeptions to rules all while avoiding collision with other \n",
        "          objects/humans/cars, obeying traffic laws, not running out of fuel and \n",
        "          getting there in a timely manner''',\n",
        "          \"close door\"]\n",
        "\n",
        "# We'll have self-driving cars next week for sure. NBD"
      ],
      "execution_count": 0,
      "outputs": []
    },
    {
      "cell_type": "markdown",
      "metadata": {
        "id": "6eXxjBbS9Z9y",
        "colab_type": "text"
      },
      "source": [
        "# Maintaining the order of our sets of ordered instruction-sets\n",
        "Here's another data structure we can make by putting lists inside of lists, this is called a two-dimensional list. Sometimes it is also known as a two-dimensional array or --if you put some extra methods on it-- a dataframe. As you can see things are starting to get a little bit more complicated."
      ]
    },
    {
      "cell_type": "code",
      "metadata": {
        "id": "78yTEOYU9c2K",
        "colab_type": "code",
        "colab": {}
      },
      "source": [
        "holdMyData = [\n",
        "    [1,2,3],\n",
        "    [4,5,6],\n",
        "    [7,8,9]\n",
        "]\n",
        "\n",
        "# Disregard the quality of these bad instructions"
      ],
      "execution_count": 0,
      "outputs": []
    },
    {
      "cell_type": "markdown",
      "metadata": {
        "id": "Qx4kuaV29eXE",
        "colab_type": "text"
      },
      "source": [
        "## Linear Algebra - organize and execute big calculations/operations really fast\n",
        "\n",
        "So why linear algebra? Because the mathematical principles behinds **vectors** and **matrices** (lists and 2D lists) will help us understand how we can tell computers how to do an insane number of calculations in a very short amount of time.\n",
        "\n",
        "Remember when we said that computers are really good at doing small and repetitive tasks very quickly?\n",
        "\n",
        "## I Give You... Matrix Multiplication:\n",
        "\n",
        "<img src=\"https://2000thingswpf.files.wordpress.com/2013/04/794-002.png?w=630\" width=\"400\">\n",
        "\n",
        "If you mess up any of those multiplications or additions you're up a creek.\n",
        "\n",
        "## I Give You... Finding the Determinant of a Matrix: (an introductory linear algebra topic)\n",
        "\n",
        "## 2x2 Matrix\n",
        "\n",
        "<img src=\"http://cdn.virtualnerd.com/tutorials/Alg2_04_01_0017/assets/Alg2_04_01_0017_D_01_16.png\" width=\"400\">\n",
        "Just use the formula!</center>\n",
        "\n",
        "## 3x3 Matrix\n",
        "\n",
        "<img src=\"https://www.thecalculator.co/includes/forms/assets/img/Matrix%20determinant%203x3%20formula.jpg\" width='400'>\n",
        "Just calculate the determinant of 3 different 2x2 matrices and multiply them by 3 other numbers and add it all up.\n",
        "     \n",
        "## 4x4 Matrix\n",
        "\n",
        "<img src=\"https://semath.info/img/inverse_cofactor_ex4_02.jpg\" width='400'>\n",
        "Just calculate 3 diferent 3x3 matrix determinants which will require the calculating of 9 different 2x2 matrix determinants, multiply them all by the right numbers and add them all up. And if you mess up any of those multiplications or additions you're up a creek.\n",
        "\n",
        "## 5x5 Matrix! \n",
        "\n",
        "\n",
        "## ...\n",
        "\n",
        "\n",
        "## ...\n",
        "\n",
        "Just kidding, any linear algebra professor who assigns the hand calculation of a 5x5 matrix determinant (or larger) is a sadist. This is what computers were invented for! Why risk so much hand calculation in order to do something that computers **never** make a mistake at?\n",
        "\n",
        "By the way, when was the last time that you worked with a dataframe that was 4 rows x 4 columns or smaller?\n",
        "\n",
        "Quick, find the determinant of this 42837x42837 dataframe by hand!"
      ]
    },
    {
      "cell_type": "markdown",
      "metadata": {
        "id": "vKQG-YvM9ihY",
        "colab_type": "text"
      },
      "source": [
        "### Common Applications of Linear Algebra in Data Science:\n",
        "\n",
        "### Vectors: Rows, Columns, lists, arrays\n",
        "\n",
        "### Matrices: tables, spreadsheets, dataframes\n",
        "\n",
        "### Linear Regression: (You might remember from the intro course)\n",
        "\n",
        "<img src=\"https://jeffycyang.github.io/content/images/2015/11/Screen-Shot-2015-11-28-at-7-35-39-PM.png\" width=\"400\">"
      ]
    },
    {
      "cell_type": "code",
      "metadata": {
        "id": "-MaY3bJj9mgj",
        "colab_type": "code",
        "outputId": "801f4ead-e4ff-4591-c24d-c1cb02b3d6ac",
        "colab": {
          "base_uri": "https://localhost:8080/",
          "height": 52
        }
      },
      "source": [
        "# Linear Regression Example\n",
        "import matplotlib.pyplot as plt\n",
        "import numpy as np\n",
        "import pandas as pd\n",
        "\n",
        "# Read CSV\n",
        "df = pd.read_csv('https://raw.githubusercontent.com/ryanleeallred/datasets/master/Ice_Cream_Sales.csv')\n",
        "\n",
        "# Create Column of 1s\n",
        "df['Ones'] = np.ones(11)\n",
        "\n",
        "# Format X and Y Matrices\n",
        "X = df[['Ones', 'Farenheit']].values\n",
        "Y = df['Dollars'].values.reshape(-1, 1)\n",
        "\n",
        "# Calculate Beta Values\n",
        "beta = np.matmul(np.linalg.inv(np.matmul(np.transpose(X), X)), np.matmul(np.transpose(X), Y))\n",
        "\n",
        "print(beta)"
      ],
      "execution_count": 0,
      "outputs": [
        {
          "output_type": "stream",
          "text": [
            "[[-596.20648399]\n",
            " [  24.68849397]]\n"
          ],
          "name": "stdout"
        }
      ]
    },
    {
      "cell_type": "code",
      "metadata": {
        "id": "mLvWT6lj9yhn",
        "colab_type": "code",
        "outputId": "3ab2179e-05ba-47bb-9532-6d14da79f5d4",
        "colab": {
          "base_uri": "https://localhost:8080/",
          "height": 295
        }
      },
      "source": [
        "# Assign Beta Values to Variables\n",
        "beta_0 = beta[0,0]\n",
        "beta_1 = beta[1,0]\n",
        "\n",
        "# Plot points with line of best fit\n",
        "plt.scatter(df['Farenheit'], df['Dollars'])\n",
        "axes = plt.gca()\n",
        "x_vals = np.array(axes.get_xlim())\n",
        "y_vals = beta_0 + beta_1 * x_vals\n",
        "plt.plot(x_vals, y_vals, '-', color='b')\n",
        "plt.title('Ice Cream Sales Regression Line')\n",
        "plt.xlabel('Farenheit')\n",
        "plt.ylabel('Dollars')\n",
        "plt.show()"
      ],
      "execution_count": 0,
      "outputs": [
        {
          "output_type": "display_data",
          "data": {
            "image/png": "[encoded data removed]",
            "text/plain": [
              "<Figure size 432x288 with 1 Axes>"
            ]
          },
          "metadata": {
            "tags": []
          }
        }
      ]
    },
    {
      "cell_type": "markdown",
      "metadata": {
        "id": "YQPzGmQ292_k",
        "colab_type": "text"
      },
      "source": [
        "### Dimensionality Reduction Techniques: Principle Component Analysis (PCA) and Singular Value Decomposition (SVD)\n",
        "\n",
        "Take a giant dataset and distill it down to its important parts. (typically as a pre-processing step for creating visualizations or putting into other models.)\n",
        "\n",
        "<img src=\"https://machine-learning-course.readthedocs.io/en/latest/_images/pca4.png\" width=\"400\">"
      ]
    },
    {
      "cell_type": "markdown",
      "metadata": {
        "id": "LNys1ivi-KKJ",
        "colab_type": "text"
      },
      "source": [
        "### Deep Learning: Convolutional Neural Networks, (Image Recognition)\n",
        "\n",
        "\"Convolving\" is the process of passing a filter/kernel (small matrix) over the pixels of an image, multiplying them together, and using the result to create a new matrix. The resulting matrix will be a new image that has been modified by the filter to emphasize certain qualities of an image. This is entirely a linear algebra-based process. A convolutional neural network learns the filters that help it best identify certain aspects of images and thereby classify immages more accurately. \n",
        "\n",
        "<img src=\"https://hackernoon.com/hn-images/1*ZCjPUFrB6eHPRi4eyP6aaA.gif\">"
      ]
    },
    {
      "cell_type": "code",
      "metadata": {
        "id": "Z7jkvntP-h5P",
        "colab_type": "code",
        "outputId": "cb3a3ce6-90a0-4750-b23d-d5f3b69ecaf6",
        "colab": {
          "base_uri": "https://localhost:8080/",
          "height": 67
        }
      },
      "source": [
        "!pip install imageio"
      ],
      "execution_count": 0,
      "outputs": [
        {
          "output_type": "stream",
          "text": [
            "Requirement already satisfied: imageio in /usr/local/lib/python3.6/dist-packages (2.4.1)\n",
            "Requirement already satisfied: pillow in /usr/local/lib/python3.6/dist-packages (from imageio) (7.0.0)\n",
            "Requirement already satisfied: numpy in /usr/local/lib/python3.6/dist-packages (from imageio) (1.18.2)\n"
          ],
          "name": "stdout"
        }
      ]
    },
    {
      "cell_type": "code",
      "metadata": {
        "id": "3WVBNlbp-lc7",
        "colab_type": "code",
        "outputId": "c4e9ab14-2a32-48f6-a80b-1c4cf029ba41",
        "colab": {
          "base_uri": "https://localhost:8080/",
          "height": 248
        }
      },
      "source": [
        "# Convolution in action\n",
        "import imageio\n",
        "import matplotlib.pyplot as plt\n",
        "import numpy as np\n",
        "import scipy.ndimage as nd\n",
        "from skimage.exposure import rescale_intensity\n",
        "from skimage import color\n",
        "\n",
        "img = imageio.imread('https://www.dropbox.com/s/dv3vtiqy439pzag/all_the_things.png?raw=1')\n",
        "plt.axis('off')\n",
        "plt.imshow(img);"
      ],
      "execution_count": 0,
      "outputs": [
        {
          "output_type": "display_data",
          "data": {
            "image/png": "[encoded data removed]",
            "text/plain": [
              "<Figure size 432x288 with 1 Axes>"
            ]
          },
          "metadata": {
            "tags": [],
            "needs_background": "light"
          }
        }
      ]
    },
    {
      "cell_type": "code",
      "metadata": {
        "id": "eqJTWxqo-oE6",
        "colab_type": "code",
        "outputId": "be1ee9ff-a631-4f38-b1b1-ebed4945e06e",
        "colab": {
          "base_uri": "https://localhost:8080/",
          "height": 248
        }
      },
      "source": [
        "# Convert I to grayscale, so it will be MxNx1 instead of MxNx4\n",
        "grayscale = color.rgb2gray(img)\n",
        "plt.axis('off')\n",
        "plt.imshow(grayscale, cmap=plt.cm.gray);"
      ],
      "execution_count": 0,
      "outputs": [
        {
          "output_type": "display_data",
          "data": {
            "image/png": "[encoded data removed]",
            "text/plain": [
              "<Figure size 432x288 with 1 Axes>"
            ]
          },
          "metadata": {
            "tags": [],
            "needs_background": "light"
          }
        }
      ]
    },
    {
      "cell_type": "code",
      "metadata": {
        "id": "RoIS6JGD-qap",
        "colab_type": "code",
        "outputId": "428de4c4-dd8a-4327-eec0-0c6dcfcd6d0a",
        "colab": {
          "base_uri": "https://localhost:8080/",
          "height": 248
        }
      },
      "source": [
        "laplacian = np.array([[0,0,1,0,0],\n",
        "              [0,0,2,0,0],\n",
        "              [1,2,-16,2,1],\n",
        "              [0,0,2,0,0],\n",
        "              [0,0,1,0,0]])\n",
        "\n",
        "\n",
        "laplacian_image = nd.convolve(grayscale, laplacian)\n",
        "plt.axis('off')\n",
        "plt.imshow(laplacian_image, cmap=plt.cm.gray);"
      ],
      "execution_count": 0,
      "outputs": [
        {
          "output_type": "display_data",
          "data": {
            "image/png": "[encoded data removed]",
            "text/plain": [
              "<Figure size 432x288 with 1 Axes>"
            ]
          },
          "metadata": {
            "tags": [],
            "needs_background": "light"
          }
        }
      ]
    },
    {
      "cell_type": "code",
      "metadata": {
        "id": "jLun623Y-sWC",
        "colab_type": "code",
        "outputId": "9857ad90-9a74-4b40-a1dd-6ebb166af4d3",
        "colab": {
          "base_uri": "https://localhost:8080/",
          "height": 248
        }
      },
      "source": [
        "sobel_x = np.array([\n",
        "    [-1,0,1],\n",
        "    [-2,0,2],\n",
        "    [-1,0,1]\n",
        "])\n",
        "\n",
        "sobel_x_image = nd.convolve(grayscale, sobel_x)\n",
        "plt.axis('off')\n",
        "plt.imshow(sobel_x_image, cmap=plt.cm.gray);"
      ],
      "execution_count": 0,
      "outputs": [
        {
          "output_type": "display_data",
          "data": {
            "image/png": "[encoded data removed]",
            "text/plain": [
              "<Figure size 432x288 with 1 Axes>"
            ]
          },
          "metadata": {
            "tags": []
          }
        }
      ]
    },
    {
      "cell_type": "code",
      "metadata": {
        "id": "G_viT0Bv-wzd",
        "colab_type": "code",
        "outputId": "9cb75335-fd4f-42a0-fef7-0d31f0e5426d",
        "colab": {
          "base_uri": "https://localhost:8080/",
          "height": 248
        }
      },
      "source": [
        "sobel_y = np.array([\n",
        "    [1,2,1],\n",
        "    [0,0,0],\n",
        "    [-1,-2,-1]\n",
        "])\n",
        "\n",
        "sobel_y_image = nd.convolve(grayscale, sobel_y)\n",
        "plt.axis('off')\n",
        "plt.imshow(sobel_y_image, cmap=plt.cm.gray);"
      ],
      "execution_count": 0,
      "outputs": [
        {
          "output_type": "display_data",
          "data": {
            "image/png": "[encoded data removed]",
            "text/plain": [
              "<Figure size 432x288 with 1 Axes>"
            ]
          },
          "metadata": {
            "tags": []
          }
        }
      ]
    },
    {
      "cell_type": "markdown",
      "metadata": {
        "id": "KcM-_FNV-1kg",
        "colab_type": "text"
      },
      "source": [
        "## Are we going to learn to do Linear Algebra by hand?\n",
        "\n",
        "Let me quote your seventh grade math teacher:\n",
        "\n",
        "> \"ArE yOu GoInG To CaRrY a CaLcUlAtOr ArOuNd wItH yOu EvErYwHeRe YoU gO???\"\n",
        "\n",
        "Of course you're going to carry a calculator around everywhere, so mostly **NO**, we're not going to do a lot of hand calculating. We're going to try and refrain from calculating things by hand unless it is absolutely necessary in order to understand and implement the concepts.\n",
        "\n",
        "We're not trying to re-invent the wheel.\n",
        "\n",
        "We're learning how to  **use** the wheel. "
      ]
    },
    {
      "cell_type": "markdown",
      "metadata": {
        "id": "hYIVs-Kz-7lG",
        "colab_type": "text"
      },
      "source": [
        "## Challenge\n",
        "\n",
        "I hope that this teaser helps you be excited about how studying Linear Algebra will help us build the intuition and skills to unlock some of the most exciting and valuable tools and techniques in machine learning. Over the next two modules we are going start building up to the concept of PCA which as you'll see will require a firm understanding of many important linear algebra intuitions."
      ]
    },
    {
      "cell_type": "markdown",
      "metadata": {
        "id": "-utHeu0B8LMr",
        "colab_type": "text"
      },
      "source": [
        "# [Scalars and Vectors](#scalars-and-vectors)\n",
        "\n",
        "Student can graph vectors, identify their dimensionality, calculate their length (norm), and take the dot product of two vectors.\n"
      ]
    },
    {
      "cell_type": "markdown",
      "metadata": {
        "id": "zGBf-YtS81I4",
        "colab_type": "text"
      },
      "source": [
        "## Overview\n",
        "\n",
        "Scalars and vectors are the basic building blocks of linear algebra. Scalars are just numbers stored as a variable, and when vectors or matrices are multiplied by them they will be scaled according to the size of the number. Vectors are a lot like lists of values in Python or like rows/columns in a dataframe many of the principles and intuitions that we learn here can be tied back to our datasets. Understanding vectors is important because matrices can be thought of as a set of vectors just like a dataframe can be thought of as a group of columns or rows. "
      ]
    },
    {
      "cell_type": "markdown",
      "metadata": {
        "id": "NrSWzSsFAUxM",
        "colab_type": "text"
      },
      "source": [
        "## Follow Along"
      ]
    },
    {
      "cell_type": "markdown",
      "metadata": {
        "id": "ENo5DQOUB3MV",
        "colab_type": "text"
      },
      "source": [
        "### Scalars\n",
        "\n",
        "A single number. Variables representing scalars are typically written in lower case.\n",
        "\n",
        "Scalars can be whole numbers or decimals.\n",
        "\n",
        "\\begin{align}\n",
        "a = 2\n",
        "\\qquad\n",
        "b = 4.815162342\n",
        "\\end{align}\n",
        "\n",
        "They can be positive, negative, 0 or any other real number.\n",
        "\n",
        "\\begin{align}\n",
        "c = -6.022\\mathrm{e}{+23}\n",
        "\\qquad\n",
        "d = \\pi\n",
        "\\end{align}"
      ]
    },
    {
      "cell_type": "code",
      "metadata": {
        "id": "PNTsHRWXB8n8",
        "colab_type": "code",
        "outputId": "d70350ff-0772-4360-c7ba-dd339d5ea93f",
        "colab": {
          "base_uri": "https://localhost:8080/",
          "height": 281
        }
      },
      "source": [
        "import math\n",
        "import matplotlib.pyplot as plt\n",
        "import numpy as np\n",
        "\n",
        "# Start with a simple vector\n",
        "blue = [.5, .5]\n",
        "\n",
        "# Then multiply it by a scalar\n",
        "\n",
        "green = np.multiply(2, blue)\n",
        "\n",
        "red = np.multiply(math.pi, blue)\n",
        "\n",
        "orange = np.multiply(-0.5, blue)\n",
        "\n",
        "# Plot the Scaled Vectors\n",
        "plt.arrow(0,0, red[0], red[1],head_width=.05, head_length=0.05, color ='red')\n",
        "plt.arrow(0,0, green[0], green[1],head_width=.05, head_length=0.05, color ='green')\n",
        "plt.arrow(0,0, blue[0], blue[1],head_width=.05, head_length=0.05, color ='blue')\n",
        "plt.arrow(0,0, orange[0], orange[1],head_width=.05, head_length=0.05, color ='orange')\n",
        "plt.xlim(-1,2)          \n",
        "plt.ylim(-1,2)\n",
        "plt.title(\"Scaled Vectors\")\n",
        "plt.show()"
      ],
      "execution_count": 0,
      "outputs": [
        {
          "output_type": "display_data",
          "data": {
            "image/png": "[encoded data removed]",
            "text/plain": [
              "<Figure size 432x288 with 1 Axes>"
            ]
          },
          "metadata": {
            "tags": []
          }
        }
      ]
    },
    {
      "cell_type": "markdown",
      "metadata": {
        "id": "9XDUsS1kB-i0",
        "colab_type": "text"
      },
      "source": [
        "### Vectors:\n",
        "\n",
        "A vector of dimension *n* is an **ordered** collection of *n* elements, which are called **components** (Note, the components of a vector are **not** referred to as \"scalars\"). Vector notation variables are commonly written as a bold-faced lowercase letters or italicized non-bold-faced lowercase characters with an arrow (→) above the letters:\n",
        "\n",
        "Written: $\\vec{v}$ \n",
        "\n",
        "Examples:\n",
        "\n",
        "\\begin{align}\n",
        "   \\vec{a} = \n",
        "   \\begin{bmatrix}\n",
        "           1\\\\\n",
        "           2\n",
        "    \\end{bmatrix}\n",
        "    \\qquad\n",
        "    \\vec{b} =\n",
        "    \\begin{bmatrix}\n",
        "          -1\\\\\n",
        "           0\\\\\n",
        "           2\n",
        "    \\end{bmatrix}\n",
        "    \\qquad\n",
        "    \\vec{c} =\n",
        "    \\begin{bmatrix}\n",
        "           4.5\n",
        "    \\end{bmatrix}\n",
        "    \\qquad\n",
        "    \\vec{d} =\n",
        "    \\begin{bmatrix}\n",
        "           Pl\\\\\n",
        "           a\\\\\n",
        "           b\\\\\n",
        "           \\frac{2}{3}\n",
        "    \\end{bmatrix}\n",
        "\\end{align}\n",
        "\n",
        "The above vectors have dimensions 2, 3, 1, and 4 respectively.\n",
        "\n",
        "Why do the vectors below only have two components?"
      ]
    },
    {
      "cell_type": "code",
      "metadata": {
        "id": "COePyv9DCFgB",
        "colab_type": "code",
        "outputId": "c95519ba-63f8-42b4-c305-07094be5192d",
        "colab": {
          "base_uri": "https://localhost:8080/",
          "height": 281
        }
      },
      "source": [
        "# Vector Examples \n",
        "yellow = [.5, .5]\n",
        "red = [.2, .1]\n",
        "blue = [.1, .3]\n",
        "\n",
        "# Coordinate Pairs for where the arrowheads are\n",
        "# yellow = (.5, .5)\n",
        "# red = (.2, .1)\n",
        "# blue = (.1, .3)\n",
        "\n",
        "plt.arrow(0, 0, .5, .5, head_width=.02, head_length=0.01, color = 'y')\n",
        "plt.arrow(0, 0, .2, .1, head_width=.02, head_length=0.01, color = 'r')\n",
        "plt.arrow(0, 0, .1, .3,  head_width=.02, head_length=0.01, color = 'b')\n",
        "plt.title('Vector Examples')\n",
        "plt.show()"
      ],
      "execution_count": 0,
      "outputs": [
        {
          "output_type": "display_data",
          "data": {
            "image/png": "[encoded data removed]",
            "text/plain": [
              "<Figure size 432x288 with 1 Axes>"
            ]
          },
          "metadata": {
            "tags": []
          }
        }
      ]
    },
    {
      "cell_type": "markdown",
      "metadata": {
        "id": "DNj5IvzrCHnX",
        "colab_type": "text"
      },
      "source": [
        "In domains such as physics it is emphasized that vectors have two properties: direction and magnitude. It's rare that we talk about them in that sense in Data Science unless we're specifically in a physics context. We just note that the length of the vector is equal to the number of dimensions of the vector. \n",
        "\n",
        "What happens if we add a third component to each of our vectors?"
      ]
    },
    {
      "cell_type": "code",
      "metadata": {
        "id": "hF1kRxu6CKtG",
        "colab_type": "code",
        "outputId": "69bf36e6-2128-4a6f-ff42-115ef9a68848",
        "colab": {
          "base_uri": "https://localhost:8080/",
          "height": 248
        }
      },
      "source": [
        "from mpl_toolkits.mplot3d import Axes3D\n",
        "import numpy as np\n",
        "\n",
        "yellow = [.5, .5, .5]\n",
        "red = [.2, .1, .0]\n",
        "blue = [.1, .3, .3]\n",
        "\n",
        "vectors = np.array([[0, 0, 0, .5, .5, .5], \n",
        "                    [0, 0, 0, .2, .1, .0],\n",
        "                    [0, 0, 0, .1, .3, .3]])\n",
        "\n",
        "X, Y, Z, U, V, W = zip(*vectors)\n",
        "fig = plt.figure()\n",
        "ax = fig.add_subplot(111, projection='3d')\n",
        "ax.quiver(X, Y, Z, U, V, W, length=1)\n",
        "ax.set_xlim([0, 1])\n",
        "ax.set_ylim([0, 1])\n",
        "ax.set_zlim([0, 1])\n",
        "ax.set_xlabel('X')\n",
        "ax.set_ylabel('Y')\n",
        "ax.set_zlabel('Z')\n",
        "plt.show()"
      ],
      "execution_count": 0,
      "outputs": [
        {
          "output_type": "display_data",
          "data": {
            "image/png": "[encoded data removed]",
            "text/plain": [
              "<Figure size 432x288 with 1 Axes>"
            ]
          },
          "metadata": {
            "tags": []
          }
        }
      ]
    },
    {
      "cell_type": "markdown",
      "metadata": {
        "id": "Xra4GxduCNXE",
        "colab_type": "text"
      },
      "source": [
        "### Norm of a Vector (Magnitude or length)\n",
        "\n",
        "The *Norm* or *Magnitude* of a vector is nothing more than the **length** of the vector. Since a vector is just a line (essentially) if you treat it as the hypotenuse of a triangle you could use the pythagorean theorem to find the equation for the norm of a vector. We're essentially just generalizing the equation for the hypotenuse of a triangle that results from the pythagorean theorem to n dimensional space.\n",
        "\n",
        "We denote the norm of a vector by wrapping it in double pipes (like double absolute value signs)\n",
        "\n",
        "\\begin{align}\n",
        "||\\vec{v}|| = \n",
        "\\sqrt{v_{1}^2 + v_{2}^2 + \\ldots + v_{n}^2}\n",
        "\\\\\n",
        "\\vec{a} = \n",
        "\\begin{bmatrix}\n",
        "3 & 7 & 2 & 4\n",
        "\\end{bmatrix}\n",
        "\\\\\n",
        "||a|| = \\sqrt{3^2 + 7^2 + 2^2 + 4^2} \\\\\n",
        "||a|| = \\sqrt{9 + 49 + 4 + 16} \\\\\n",
        "||a|| = \\sqrt{78}\n",
        "\\end{align}\n",
        "\n",
        "The Norm is the square root of the sum of the squared elements of a vector.\n",
        "\n",
        "Properties of the Norm:\n",
        "\n",
        "The norm is always positive or zero $||x|| \\geq 0$ \n",
        "\n",
        "The norm is only equal to zero if all of the elements of the vector are zero.\n",
        "\n",
        "The Triangle Inequality: $|| x + y ||\\leq ||x|| + ||y||$\n"
      ]
    },
    {
      "cell_type": "markdown",
      "metadata": {
        "id": "IUmSOT3PCaTo",
        "colab_type": "text"
      },
      "source": [
        "### The Equation for the norm of a vector is just Pythagorean Theorem extended to more than two dimensions.\n",
        "\n",
        "$a^2 + b^2 = c^2$\n",
        "\n",
        "a = one side of a right triangle\n",
        "\n",
        "b = the other side\n",
        "\n",
        "c = the \"hypotenuse\" of a right triangle (We consider the vector that we're looking at to be the hypotenuse of a triangle\n",
        "\n",
        "![Pythagorean Theorem](http://mathworld.wolfram.com/images/eps-gif/PythagoreanTheoremFigure_1000.gif)\n",
        "\n",
        "$c = \\sqrt{a^2 + b^2}$"
      ]
    },
    {
      "cell_type": "markdown",
      "metadata": {
        "id": "-INEoYRRCJep",
        "colab_type": "text"
      },
      "source": [
        "### Dot Product\n",
        "\n",
        "The dot product of two vectors $\\vec{a}$ and $\\vec{b}$ is a scalar quantity that is equal to the sum of pair-wise products of the components of vectors a and b. An example will make this make much more sense:\n",
        "\n",
        "\\begin{align} \\vec{a} \\cdot \\vec{b} = (a_{1} \\times b_{1}) + (a_{2} \\times b_{2}) + \\ldots + ( a_{n} \\times b_{n}) \\end{align}\n",
        "\n",
        "Example:\n",
        "\n",
        "\\begin{align}\n",
        "\\vec{a} = \n",
        "\\begin{bmatrix}\n",
        "3 & 7 & 2 & 4\n",
        "\\end{bmatrix}\n",
        "\\qquad\n",
        "\\vec{b} = \n",
        "\\begin{bmatrix}\n",
        "4 & 1 & 12 & 6\n",
        "\\end{bmatrix}\n",
        "\\end{align}\n",
        "\n",
        "The dot product of two vectors would be:\n",
        "\\begin{align}\n",
        "a \\cdot b = (3)(4) + (7)(1) + (2)(12) + (4)(6) \\\\ \n",
        "= 12 + 7 + 24 + 24  \\\\\n",
        "= 67\n",
        "\\end{align}\n",
        "\n",
        "The dot product is commutative: $ a \\cdot b = b \\cdot a$\n",
        "\n",
        "The dot product is distributive: $a \\cdot (b + c) = a \\cdot b + a \\cdot c$\n",
        "\n",
        "Two vectors must have the same number of components in order for the dot product to exist. If they lengths differ the dot product is undefined."
      ]
    },
    {
      "cell_type": "code",
      "metadata": {
        "id": "5dVl1wVijlTT",
        "colab_type": "code",
        "outputId": "d8dd3fdd-a4bd-4c1a-b782-98e2c79dc11e",
        "colab": {
          "base_uri": "https://localhost:8080/",
          "height": 196
        }
      },
      "source": [
        "import numpy as np\n",
        "\n",
        "a = [3,7,2,4] \n",
        "b = [4,1,12,6]\n",
        "\n",
        "a + b\n",
        "\n",
        "a / b"
      ],
      "execution_count": 0,
      "outputs": [
        {
          "output_type": "error",
          "ename": "TypeError",
          "evalue": "ignored",
          "traceback": [
            "\u001b[0;31m---------------------------------------------------------------------------\u001b[0m",
            "\u001b[0;31mTypeError\u001b[0m                                 Traceback (most recent call last)",
            "\u001b[0;32m<ipython-input-9-372a24afae01>\u001b[0m in \u001b[0;36m<module>\u001b[0;34m()\u001b[0m\n\u001b[1;32m      6\u001b[0m \u001b[0ma\u001b[0m \u001b[0;34m+\u001b[0m \u001b[0mb\u001b[0m\u001b[0;34m\u001b[0m\u001b[0;34m\u001b[0m\u001b[0m\n\u001b[1;32m      7\u001b[0m \u001b[0;34m\u001b[0m\u001b[0m\n\u001b[0;32m----> 8\u001b[0;31m \u001b[0ma\u001b[0m \u001b[0;34m/\u001b[0m \u001b[0mb\u001b[0m\u001b[0;34m\u001b[0m\u001b[0;34m\u001b[0m\u001b[0m\n\u001b[0m",
            "\u001b[0;31mTypeError\u001b[0m: unsupported operand type(s) for /: 'list' and 'list'"
          ]
        }
      ]
    },
    {
      "cell_type": "code",
      "metadata": {
        "id": "qQ9_IpnPj6xo",
        "colab_type": "code",
        "outputId": "eedbaea1-b6ac-4b96-f337-2615b7ce698f",
        "colab": {
          "base_uri": "https://localhost:8080/",
          "height": 34
        }
      },
      "source": [
        "# array broadcasting\n",
        "# (we do processes \"element-wise\")\n",
        "a_numpy = np.array(a)\n",
        "b_numpy = np.array(b)\n",
        "\n",
        "a_numpy + b_numpy\n",
        "\n",
        "a_numpy / b_numpy"
      ],
      "execution_count": 0,
      "outputs": [
        {
          "output_type": "execute_result",
          "data": {
            "text/plain": [
              "array([0.75      , 7.        , 0.16666667, 0.66666667])"
            ]
          },
          "metadata": {
            "tags": []
          },
          "execution_count": 10
        }
      ]
    },
    {
      "cell_type": "code",
      "metadata": {
        "id": "ULp1ejOIkdUW",
        "colab_type": "code",
        "outputId": "c6018188-99a4-4377-f3be-212f9a3f2f7a",
        "colab": {
          "base_uri": "https://localhost:8080/",
          "height": 34
        }
      },
      "source": [
        "def dot_product(vec1, vec2):\n",
        "  return (np.array(vec1) * np.array(vec2)).sum()\n",
        "\n",
        "dot_product(a, b)"
      ],
      "execution_count": 0,
      "outputs": [
        {
          "output_type": "execute_result",
          "data": {
            "text/plain": [
              "67"
            ]
          },
          "metadata": {
            "tags": []
          },
          "execution_count": 12
        }
      ]
    },
    {
      "cell_type": "markdown",
      "metadata": {
        "id": "oPfozj1VlFub",
        "colab_type": "text"
      },
      "source": [
        "## Cross Product:\n",
        "\n",
        "$\\vec{a} \\times \\vec{b}$"
      ]
    },
    {
      "cell_type": "markdown",
      "metadata": {
        "id": "POUdW_9A-8Wy",
        "colab_type": "text"
      },
      "source": [
        "## Challenge\n",
        "\n",
        "Being able to calculate the length of a vector is vital as a vector's length is one of the key attributes that defines it. Likewise taking the dot product of two vectors is a process that you **need** to be comfortable with as it is involved in many more complex linear algebra processes. You will practice both of these concepts as well as graphing vectors on your assignment this afternoon."
      ]
    },
    {
      "cell_type": "markdown",
      "metadata": {
        "id": "LiAs3-Mh8Lw5",
        "colab_type": "text"
      },
      "source": [
        "# [Matrices](#matrices)\n",
        "\n",
        "Student can identify the dimensionality of matrices, multiply them, identify when matrix multiplication is a legal operation, and transpose a matrix.\n",
        "\n",
        "A **matrix** is a rectangular grid of numbers arranged in rows and columns. Variables that represent matrices are typically written as capital letters (boldfaced as well if you want to be super formal).\n",
        "\n",
        "\\begin{align}\n",
        "A = \n",
        "    \\begin{bmatrix}\n",
        "           1 & 2 & 3\\\\\n",
        "           4 & 5 & 6\\\\\n",
        "           7 & 8 & 9\n",
        "    \\end{bmatrix}\n",
        "    \\qquad\n",
        "    B = \\begin{bmatrix}\n",
        "           1 & 2 & 3\\\\\n",
        "           4 & 5 & 6\n",
        "    \\end{bmatrix}\n",
        " \\end{align}\n",
        "\n",
        "You'll notice that we arrange our dataframes in a similar grid-like pattern meaning that anything we learn about matrices also applies to the dataframes that we work with in Pandas"
      ]
    },
    {
      "cell_type": "markdown",
      "metadata": {
        "id": "78ApIswA813p",
        "colab_type": "text"
      },
      "source": [
        "## Overview"
      ]
    },
    {
      "cell_type": "markdown",
      "metadata": {
        "id": "OeCWWaWmDPSn",
        "colab_type": "text"
      },
      "source": [
        "A **matrix** is a rectangular grid of numbers arranged in rows and columns. Variables that represent matrices are typically written as capital letters (boldfaced as well if you want to be super formal).\n",
        "\n",
        "\\begin{align}\n",
        "A = \n",
        "    \\begin{bmatrix}\n",
        "           1 & 2 & 3\\\\\n",
        "           4 & 5 & 6\\\\\n",
        "           7 & 8 & 9\n",
        "    \\end{bmatrix}\n",
        "    \\qquad\n",
        "    B = \\begin{bmatrix}\n",
        "           1 & 2 & 3\\\\\n",
        "           4 & 5 & 6\n",
        "    \\end{bmatrix}\n",
        " \\end{align}\n",
        "\n",
        "You'll notice that we arrange our dataframes in a similar grid-like pattern meaning that anything we learn about matrices also applies to the dataframes that we work with in Pandas"
      ]
    },
    {
      "cell_type": "code",
      "metadata": {
        "id": "Qe8hTDkDDg1Y",
        "colab_type": "code",
        "outputId": "44671894-f725-4e97-c8af-642a280eadb5",
        "colab": {
          "base_uri": "https://localhost:8080/",
          "height": 153
        }
      },
      "source": [
        "import pandas as pd\n",
        "\n",
        "df = pd.DataFrame({'a': [1,2,3], 'b': [4,5,6]})\n",
        "\n",
        "print(df.shape)\n",
        "df.head()"
      ],
      "execution_count": 0,
      "outputs": [
        {
          "output_type": "stream",
          "text": [
            "(3, 2)\n"
          ],
          "name": "stdout"
        },
        {
          "output_type": "execute_result",
          "data": {
            "text/html": [
              "<div>\n",
              "<style scoped>\n",
              "    .dataframe tbody tr th:only-of-type {\n",
              "        vertical-align: middle;\n",
              "    }\n",
              "\n",
              "    .dataframe tbody tr th {\n",
              "        vertical-align: top;\n",
              "    }\n",
              "\n",
              "    .dataframe thead th {\n",
              "        text-align: right;\n",
              "    }\n",
              "</style>\n",
              "<table border=\"1\" class=\"dataframe\">\n",
              "  <thead>\n",
              "    <tr style=\"text-align: right;\">\n",
              "      <th></th>\n",
              "      <th>a</th>\n",
              "      <th>b</th>\n",
              "    </tr>\n",
              "  </thead>\n",
              "  <tbody>\n",
              "    <tr>\n",
              "      <th>0</th>\n",
              "      <td>1</td>\n",
              "      <td>4</td>\n",
              "    </tr>\n",
              "    <tr>\n",
              "      <th>1</th>\n",
              "      <td>2</td>\n",
              "      <td>5</td>\n",
              "    </tr>\n",
              "    <tr>\n",
              "      <th>2</th>\n",
              "      <td>3</td>\n",
              "      <td>6</td>\n",
              "    </tr>\n",
              "  </tbody>\n",
              "</table>\n",
              "</div>"
            ],
            "text/plain": [
              "   a  b\n",
              "0  1  4\n",
              "1  2  5\n",
              "2  3  6"
            ]
          },
          "metadata": {
            "tags": []
          },
          "execution_count": 13
        }
      ]
    },
    {
      "cell_type": "markdown",
      "metadata": {
        "id": "-ICxVWUBAWJJ",
        "colab_type": "text"
      },
      "source": [
        "## Follow Along"
      ]
    },
    {
      "cell_type": "markdown",
      "metadata": {
        "id": "edqRmcp3Diqd",
        "colab_type": "text"
      },
      "source": [
        "### Dimensionality\n",
        "\n",
        "The number of rows and columns that a matrix has is called its **dimension**.\n",
        "\n",
        "When listing the dimension of a matrix we always list rows first and then columns. \n",
        "\n",
        "The dimension of matrix A is 3x3. (Note: This is read \"Three by Three\", the 'x' isn't a multiplication sign.)\n",
        "\n",
        "What is the Dimension of Matrix B?"
      ]
    },
    {
      "cell_type": "markdown",
      "metadata": {
        "id": "_nFQuzwpDkgi",
        "colab_type": "text"
      },
      "source": [
        "### Matrix Equality\n",
        "\n",
        "In order for two Matrices to be equal the following conditions must be true:\n",
        "\n",
        "1) They must have the same dimensions.\n",
        "\n",
        "2) Corresponding elements must be equal.\n",
        "\n",
        "\\begin{align}\n",
        "    \\begin{bmatrix}\n",
        "           1 & 4\\\\\n",
        "           2 & 5\\\\\n",
        "           3 & 6 \n",
        "    \\end{bmatrix} \n",
        "    \\neq\n",
        "    \\begin{bmatrix}\n",
        "           1 & 2 & 3\\\\\n",
        "           4 & 5 & 6\n",
        "    \\end{bmatrix}\n",
        "\\end{align}"
      ]
    },
    {
      "cell_type": "markdown",
      "metadata": {
        "id": "EpmtZFFTDoqh",
        "colab_type": "text"
      },
      "source": [
        "### Matrix Multiplication\n",
        "\n",
        "You can multipy any two matrices where the number of  columns of the first matrix is equal to the number of rows of the second matrix.\n",
        "\n",
        "The unused dimensions of the factor matrices tell you what the dimensions of the product matrix will be.\n",
        "\n",
        "![Matrix Multiplication Dimensions](https://encrypted-tbn0.gstatic.com/images?q=tbn:ANd9GcRunZv20HXxTMUgrkfdER06lPnMj0HpwDU_2i4IEHsBM5098440Jw)\n",
        "\n",
        "There is no commutative property of matrix multiplication (you can't switch the order of the matrices and always get the same result). \n",
        "\n",
        "Matrix multiplication is best understood in terms of the dot product. Remember:\n",
        "\n",
        "\\begin{align} \\vec{a} \\cdot \\vec{b} = (a_{1} \\times b_{1}) + (a_{2} \\times b_{2}) + \\ldots + ( a_{n} \\times b_{n}) \\end{align}\n",
        "\n",
        "To multiply to matrices together, we will take the dot product of each row of the first matrix with each column of the second matrix. The position of the resulting entries will correspond to the row number and column number of the row and column vector that were used to find that scalar. Lets look at an example to make this more clear.\n",
        "\n",
        "![Dot Product Matrix Multiplication](https://www.mathsisfun.com/algebra/images/matrix-multiply-a.svg)\n",
        "\n"
      ]
    },
    {
      "cell_type": "code",
      "metadata": {
        "id": "bmkwuV6gpEss",
        "colab_type": "code",
        "colab": {}
      },
      "source": [
        "# Dimensionality: (2,3) x (3,2) = (2,2)\n",
        "\n",
        "# What if they're in the opposite order (3,2) x (2,3) = (3,3)\n",
        "# Write the two variables up against one another to indicate matrix multiplication\n",
        "# AB\n",
        "# A       B\n",
        "(3,3) x (3,3) = (3,3)\n",
        "\n",
        "# B       A\n",
        "(3,3) x (3,3) = (3,3)"
      ],
      "execution_count": 0,
      "outputs": []
    },
    {
      "cell_type": "code",
      "metadata": {
        "id": "yN0ZKYBMqEtk",
        "colab_type": "code",
        "outputId": "434abb92-7b81-4046-e8d0-5df8dd4e5101",
        "colab": {
          "base_uri": "https://localhost:8080/",
          "height": 50
        }
      },
      "source": [
        "A = np.array([[1,2],[3,4]])\n",
        "A"
      ],
      "execution_count": 0,
      "outputs": [
        {
          "output_type": "execute_result",
          "data": {
            "text/plain": [
              "array([[1, 2],\n",
              "       [3, 4]])"
            ]
          },
          "metadata": {
            "tags": []
          },
          "execution_count": 14
        }
      ]
    },
    {
      "cell_type": "code",
      "metadata": {
        "id": "rUCl7TOXqMch",
        "colab_type": "code",
        "colab": {}
      },
      "source": [
        "B = np.array([[3,4],[5,6]])"
      ],
      "execution_count": 0,
      "outputs": []
    },
    {
      "cell_type": "code",
      "metadata": {
        "id": "RWlv2kXAqQLD",
        "colab_type": "code",
        "outputId": "194e668e-e851-45fb-f61f-24d3816e90f5",
        "colab": {
          "base_uri": "https://localhost:8080/",
          "height": 50
        }
      },
      "source": [
        "np.matmul(A,B)"
      ],
      "execution_count": 0,
      "outputs": [
        {
          "output_type": "execute_result",
          "data": {
            "text/plain": [
              "array([[13, 16],\n",
              "       [29, 36]])"
            ]
          },
          "metadata": {
            "tags": []
          },
          "execution_count": 17
        }
      ]
    },
    {
      "cell_type": "code",
      "metadata": {
        "id": "tK0IzEsqqTiz",
        "colab_type": "code",
        "outputId": "019924ea-6288-42a4-94d7-64f897da0015",
        "colab": {
          "base_uri": "https://localhost:8080/",
          "height": 50
        }
      },
      "source": [
        "np.matmul(B,A)"
      ],
      "execution_count": 0,
      "outputs": [
        {
          "output_type": "execute_result",
          "data": {
            "text/plain": [
              "array([[15, 22],\n",
              "       [23, 34]])"
            ]
          },
          "metadata": {
            "tags": []
          },
          "execution_count": 18
        }
      ]
    },
    {
      "cell_type": "code",
      "metadata": {
        "id": "sHV4dyKSqj0N",
        "colab_type": "code",
        "colab": {}
      },
      "source": [
        "(2,3) x (3,2) = (2,2)"
      ],
      "execution_count": 0,
      "outputs": []
    },
    {
      "cell_type": "markdown",
      "metadata": {
        "id": "TWyP3vsCpFLT",
        "colab_type": "text"
      },
      "source": [
        "\\begin{align}\n",
        "\\begin{bmatrix}\n",
        "1 & 2 & 3 \\\\\n",
        "4 & 5 & 6\n",
        "\\end{bmatrix} \n",
        "\\begin{bmatrix}\n",
        "7 & 8 \\\\\n",
        "9 & 10 \\\\\n",
        "11 & 12\n",
        "\\end{bmatrix} \n",
        "=\n",
        "\\begin{bmatrix}\n",
        "(1)(7)+(2)(9)+(3)(11) & (1)(8)+(2)(10)+(3)(12)\\\\\n",
        "(4)(7)+(5)(9)+(6)(11) & (4)(8)+(5)(10)+(6)(12)\n",
        "\\end{bmatrix}\n",
        "=\n",
        "\\begin{bmatrix}\n",
        "(7)+(18)+(33) & (8)+(20)+(36)\\\\\n",
        "(28)+(45)+(66) & (32)+(50)+(72)\n",
        "\\end{bmatrix}\n",
        "=\n",
        "\\begin{bmatrix}\n",
        "58 & 64\\\\\n",
        "139 & 154\n",
        "\\end{bmatrix}\n",
        "\\end{align}"
      ]
    },
    {
      "cell_type": "markdown",
      "metadata": {
        "id": "zUHeGSPGDsR8",
        "colab_type": "text"
      },
      "source": [
        "## Transpose\n",
        "\n",
        "A transposed matrix is one whose rows are the columns of the original and whose columns are the rows of the original.\n",
        "\n",
        "Common notation for the transpose of a matrix is to have a capital $T$ superscript or a tick mark:\n",
        "\n",
        "\\begin{align}\n",
        "B^{T}\n",
        "\\qquad\n",
        "B^{\\prime}\n",
        "\\end{align}\n",
        "\n",
        "The first is read \"B transpose\" the second is sometimes read as \"B prime\" but can also be read as \"B transpose\".\n",
        "\n",
        "The transpose of any matrix can be found easily by fixing the elements on the main diagonal and flipping the placement of all other elements across that diagonal.\n",
        "\n",
        "![Matrix Transpose](http://xaktly.com/Images/Mathematics/MatrixAlgebra/MatrixOperations/MatrixTranspose.png)\n",
        "  \n",
        "\\begin{align}\n",
        "  B = \n",
        "\\begin{bmatrix}\n",
        "  1 & 2 & 3 \\\\\n",
        "  4 & 5 & 6\n",
        "\\end{bmatrix}\n",
        "  \\qquad\n",
        "  B^{T} = \n",
        "  \\begin{bmatrix}\n",
        "  1 & 4 \\\\\n",
        "  2 & 5 \\\\\n",
        "  3 & 6\n",
        "  \\end{bmatrix}\n",
        "\\end{align}\n",
        "\n",
        "![Matrix Transpose](https://upload.wikimedia.org/wikipedia/commons/e/e4/Matrix_transpose.gif)"
      ]
    },
    {
      "cell_type": "code",
      "metadata": {
        "id": "jLTfBIRqDxtS",
        "colab_type": "code",
        "outputId": "79973c7f-37b4-4972-a7d1-9bf020c029d5",
        "colab": {
          "base_uri": "https://localhost:8080/",
          "height": 136
        }
      },
      "source": [
        "df"
      ],
      "execution_count": 0,
      "outputs": [
        {
          "output_type": "execute_result",
          "data": {
            "text/html": [
              "<div>\n",
              "<style scoped>\n",
              "    .dataframe tbody tr th:only-of-type {\n",
              "        vertical-align: middle;\n",
              "    }\n",
              "\n",
              "    .dataframe tbody tr th {\n",
              "        vertical-align: top;\n",
              "    }\n",
              "\n",
              "    .dataframe thead th {\n",
              "        text-align: right;\n",
              "    }\n",
              "</style>\n",
              "<table border=\"1\" class=\"dataframe\">\n",
              "  <thead>\n",
              "    <tr style=\"text-align: right;\">\n",
              "      <th></th>\n",
              "      <th>a</th>\n",
              "      <th>b</th>\n",
              "    </tr>\n",
              "  </thead>\n",
              "  <tbody>\n",
              "    <tr>\n",
              "      <th>0</th>\n",
              "      <td>1</td>\n",
              "      <td>4</td>\n",
              "    </tr>\n",
              "    <tr>\n",
              "      <th>1</th>\n",
              "      <td>2</td>\n",
              "      <td>5</td>\n",
              "    </tr>\n",
              "    <tr>\n",
              "      <th>2</th>\n",
              "      <td>3</td>\n",
              "      <td>6</td>\n",
              "    </tr>\n",
              "  </tbody>\n",
              "</table>\n",
              "</div>"
            ],
            "text/plain": [
              "   a  b\n",
              "0  1  4\n",
              "1  2  5\n",
              "2  3  6"
            ]
          },
          "metadata": {
            "tags": []
          },
          "execution_count": 19
        }
      ]
    },
    {
      "cell_type": "code",
      "metadata": {
        "id": "v31YheDkDyPC",
        "colab_type": "code",
        "outputId": "382d80ba-c859-4d86-9805-5d5d6ed63e64",
        "colab": {
          "base_uri": "https://localhost:8080/",
          "height": 106
        }
      },
      "source": [
        "# Transposing a dataframe switches its rows and columns\n",
        "df.T"
      ],
      "execution_count": 0,
      "outputs": [
        {
          "output_type": "execute_result",
          "data": {
            "text/html": [
              "<div>\n",
              "<style scoped>\n",
              "    .dataframe tbody tr th:only-of-type {\n",
              "        vertical-align: middle;\n",
              "    }\n",
              "\n",
              "    .dataframe tbody tr th {\n",
              "        vertical-align: top;\n",
              "    }\n",
              "\n",
              "    .dataframe thead th {\n",
              "        text-align: right;\n",
              "    }\n",
              "</style>\n",
              "<table border=\"1\" class=\"dataframe\">\n",
              "  <thead>\n",
              "    <tr style=\"text-align: right;\">\n",
              "      <th></th>\n",
              "      <th>0</th>\n",
              "      <th>1</th>\n",
              "      <th>2</th>\n",
              "    </tr>\n",
              "  </thead>\n",
              "  <tbody>\n",
              "    <tr>\n",
              "      <th>a</th>\n",
              "      <td>1</td>\n",
              "      <td>2</td>\n",
              "      <td>3</td>\n",
              "    </tr>\n",
              "    <tr>\n",
              "      <th>b</th>\n",
              "      <td>4</td>\n",
              "      <td>5</td>\n",
              "      <td>6</td>\n",
              "    </tr>\n",
              "  </tbody>\n",
              "</table>\n",
              "</div>"
            ],
            "text/plain": [
              "   0  1  2\n",
              "a  1  2  3\n",
              "b  4  5  6"
            ]
          },
          "metadata": {
            "tags": []
          },
          "execution_count": 20
        }
      ]
    },
    {
      "cell_type": "markdown",
      "metadata": {
        "id": "raeSObVN-9Fa",
        "colab_type": "text"
      },
      "source": [
        "## Challenge\n",
        "\n",
        "Throughout the week we will be learning how the princples of mathematical matrices apply to our datasets. We'll be focusing mostly on math topics and techniques but as the week goes on we will be making more and more connections back to how we think about and work with our datasets.\n"
      ]
    },
    {
      "cell_type": "markdown",
      "metadata": {
        "id": "gRXqzzUE8L87",
        "colab_type": "text"
      },
      "source": [
        "# [Square Matrices](#square-matrices)\n",
        "\n",
        "Student can identify special types of square matrices including the identity matrix, as well as find the determinant and inverse of a matrix."
      ]
    },
    {
      "cell_type": "markdown",
      "metadata": {
        "id": "Xqc2Eejw82eD",
        "colab_type": "text"
      },
      "source": [
        "## Overview\n",
        "\n",
        "In a traditional linear algebra class after the first few weeks you would deal almost exclusively with square matrices. They have very nice properties that their lopsided sisters and brothers just don't possess. \n",
        "\n",
        "A square matrix is any matrix that has the same number of rows as columns:\n",
        "\n",
        "\\begin{align}\n",
        "A =\n",
        "\\begin{bmatrix}\n",
        "  a_{1,1}\n",
        "\\end{bmatrix}\n",
        "\\qquad\n",
        "B =\n",
        "\\begin{bmatrix}\n",
        "b_{1,1} & b_{1,2} \\\\\n",
        "b_{2,1} & b_{2,2}\n",
        "\\end{bmatrix}\n",
        "\\qquad\n",
        "C =\n",
        "\\begin{bmatrix}\n",
        "c_{1,1} & c_{1,2} & c_{1,3} \\\\\n",
        "c_{2,1} & c_{2,2} & c_{2,3} \\\\\n",
        "c_{3,1} & c_{3,2} & c_{3,3} \n",
        "\\end{bmatrix}\n",
        "\\end{align}"
      ]
    },
    {
      "cell_type": "markdown",
      "metadata": {
        "id": "RcB6ruT3AYUt",
        "colab_type": "text"
      },
      "source": [
        "## Follow Along\n",
        "\n",
        "### Special Kinds of Square Matrices\n",
        "\n",
        "**Diagonal:** Values on the main diagonal, zeroes everywhere else.\n",
        "\n",
        "\\begin{align}\n",
        "A =\n",
        "\\begin{bmatrix}\n",
        "a_{1,1} & 0 & 0 \\\\\n",
        "0 & a_{2,2} & 0 \\\\\n",
        "0 & 0 & a_{3,3} \n",
        "\\end{bmatrix}\n",
        "\\end{align}\n",
        "\n",
        "**Upper Triangular:** Values on and above the main diagonal, zeroes everywhere else.\n",
        "\n",
        "\\begin{align}\n",
        "B =\n",
        "\\begin{bmatrix}\n",
        "b_{1,1} & b_{1,2} & b_{1,3} \\\\\n",
        "0 & b_{2,2} & b_{2,3} \\\\\n",
        "0 & 0 & b_{3,3} \n",
        "\\end{bmatrix}\n",
        "\\end{align}\n",
        "\n",
        "**Lower Triangular:** Values on and below the main diagonal, zeroes everywhere else.\n",
        "\n",
        "\\begin{align}\n",
        "C =\n",
        "\\begin{bmatrix}\n",
        "c_{1,1} & 0 & 0 \\\\\n",
        "c_{2,1} & c_{2,2} & 0 \\\\\n",
        "c_{3,1} & c_{3,2} & c_{3,3} \n",
        "\\end{bmatrix}\n",
        "\\end{align}\n",
        "\n",
        "**Identity Matrix:** A diagonal matrix with ones on the main diagonal and zeroes everywhere else. The product of the any square matrix and the identity matrix is the original square matrix $AI == A$. Also, any matrix multiplied by its inverse will give the identity matrix as its product.  $AA^{-1} = I$\n",
        "\n",
        "\\begin{align}\n",
        "I_1 =\n",
        "\\begin{bmatrix}\n",
        "  1\n",
        "\\end{bmatrix}\n",
        "\\qquad\n",
        "I_2 =\n",
        "\\begin{bmatrix}\n",
        "1 & 0 \\\\\n",
        "0 & 1\n",
        "\\end{bmatrix}\n",
        "\\qquad\n",
        "I_3 =\n",
        "\\begin{bmatrix}\n",
        "1 & 0 & 0 \\\\\n",
        "0 & 1 & 0 \\\\\n",
        "0 & 0 & 1 \n",
        "\\end{bmatrix}\n",
        "\\end{align}\n",
        "\n",
        "**Symmetric:** The numbers above the main diagonal are mirrored below/across the main diagonal.\n",
        "\n",
        "\\begin{align}\n",
        "G =\n",
        "\\begin{bmatrix}\n",
        "1 & 4 & 5 \\\\\n",
        "4 & 2 & 6 \\\\\n",
        "5 & 6 & 3 \n",
        "\\end{bmatrix}\n",
        "\\end{align}\n",
        "\n",
        "\n"
      ]
    },
    {
      "cell_type": "code",
      "metadata": {
        "id": "w-7SbAUNt0e2",
        "colab_type": "code",
        "outputId": "56153e6f-4426-4fc7-d309-002dc6346622",
        "colab": {
          "base_uri": "https://localhost:8080/",
          "height": 50
        }
      },
      "source": [
        "F = np.array([[1,2],[3,4]])\n",
        "\n",
        "F"
      ],
      "execution_count": 0,
      "outputs": [
        {
          "output_type": "execute_result",
          "data": {
            "text/plain": [
              "array([[1, 2],\n",
              "       [3, 4]])"
            ]
          },
          "metadata": {
            "tags": []
          },
          "execution_count": 21
        }
      ]
    },
    {
      "cell_type": "code",
      "metadata": {
        "id": "2AasoOFUt2lh",
        "colab_type": "code",
        "outputId": "802dde64-cac5-47cc-8741-9b51bff9015c",
        "colab": {
          "base_uri": "https://localhost:8080/",
          "height": 50
        }
      },
      "source": [
        "I2 = np.array([[1,0],[0,1]])\n",
        "\n",
        "I2"
      ],
      "execution_count": 0,
      "outputs": [
        {
          "output_type": "execute_result",
          "data": {
            "text/plain": [
              "array([[1, 0],\n",
              "       [0, 1]])"
            ]
          },
          "metadata": {
            "tags": []
          },
          "execution_count": 22
        }
      ]
    },
    {
      "cell_type": "code",
      "metadata": {
        "id": "KGCPCLhWt8OH",
        "colab_type": "code",
        "outputId": "44f2e731-f013-4d12-a161-98fd4cf59bc4",
        "colab": {
          "base_uri": "https://localhost:8080/",
          "height": 50
        }
      },
      "source": [
        "np.matmul(F, I2)"
      ],
      "execution_count": 0,
      "outputs": [
        {
          "output_type": "execute_result",
          "data": {
            "text/plain": [
              "array([[1, 2],\n",
              "       [3, 4]])"
            ]
          },
          "metadata": {
            "tags": []
          },
          "execution_count": 23
        }
      ]
    },
    {
      "cell_type": "markdown",
      "metadata": {
        "id": "yXN3mVFdFNpL",
        "colab_type": "text"
      },
      "source": [
        "### Determinant\n",
        "\n",
        "The determinant is a property that all square matrices possess and is denoted $det(A)$ or using pipes (absolute value symbols) $|A|$\n",
        "\n",
        "The equation given for finding the determinant of a 2x2 matrix is as follows:\n",
        "\n",
        "\\begin{align}\n",
        "A = \\begin{bmatrix}\n",
        "a & b \\\\\n",
        "c & d\n",
        "\\end{bmatrix}\n",
        "\\qquad\n",
        "|A| = ad-bc\n",
        "\\end{align}\n",
        "\n",
        "The determinant of larger square matrices recursively by finding the determinats of the smaller matrics that make up the large matrix.\n",
        "\n",
        "For example:\n",
        "\n",
        "<center><img src=\"https://wikimedia.org/api/rest_v1/media/math/render/svg/14f2f2a449d6d152ee71261e47551aa0a31c801e\" width=500></center>\n",
        "\n",
        "The above equation is **very** similar to the equation that we use to find the cross-product of a 3x3 matrix. "
      ]
    },
    {
      "cell_type": "markdown",
      "metadata": {
        "id": "c6DsBxGmFOvA",
        "colab_type": "text"
      },
      "source": [
        "### Inverse\n",
        "\n",
        " There are multiple methods that we could use to find the inverse of a matrix by hand. I would suggest you explore those methods --if this content isn't already overwhelming enough. The inverse is like the reciprocal of the matrix that was used to generate it. Just like $\\frac{1}{8}$ is the reciprocal of 8, $A^{-1}$ acts like the reciprocal of $A$.  The equation for finding the determinant of a 2x2 matrix is as follows:\n",
        " \n",
        " \\begin{align}\n",
        "A = \\begin{bmatrix}\n",
        "a & b \\\\\n",
        "c & d\n",
        "\\end{bmatrix}\n",
        "\\qquad\n",
        "A^{-1} = \\frac{1}{ad-bc}\\begin{bmatrix}\n",
        "d & -b\\\\\n",
        "-c & a\n",
        "\\end{bmatrix}\n",
        "\\end{align}"
      ]
    },
    {
      "cell_type": "markdown",
      "metadata": {
        "id": "ByOCfNwyFTN7",
        "colab_type": "text"
      },
      "source": [
        " ### What happens if we multiply a matrix by its inverse?\n",
        "\n",
        "The product of a matrix multiplied by its inverse is the identity matrix of the same dimensions as the original matrix. There is no concept of \"matrix division\" in linear algebra, but multiplying a matrix by its inverse is very similar since $8\\times\\frac{1}{8} = 1$. \n",
        "\n",
        "\\begin{align}\n",
        "A^{-1}A = I \n",
        "\\end{align}\n"
      ]
    },
    {
      "cell_type": "markdown",
      "metadata": {
        "id": "oSoPNVMeFVsP",
        "colab_type": "text"
      },
      "source": [
        "### Not all matrices are invertible\n",
        "\n",
        "Matrices that are not square are not invertible.\n",
        " \n",
        " A matrix is invertible if and only if its determinant is non-zero. You'll notice that the fraction on the left side of the matrix is $\\frac{1}{det(A)}$.\n",
        " \n",
        " As you know, dividing anything by 0 leads to an undefined quotient. Therefore, if the determinant of a matrix is 0, then the entire inverse becomes undefined. "
      ]
    },
    {
      "cell_type": "markdown",
      "metadata": {
        "id": "CpZ-2b5HFYpM",
        "colab_type": "text"
      },
      "source": [
        "### What leads to a 0 determinant?\n",
        " \n",
        " A square matrix that has a determinant of 0 is known as a \"singular\" matrix. One thing that can lead to a matrix having a determinant of 0 is if two rows or columns in the matrix are perfectly collinear. Another way of saying this is that the determinant will be zero if the rows or columns of a matrix are not linearly dependent. \n",
        " \n",
        "One of the most common ways that a matrix can end up having rows that are linearly dependent is if one column a multiple of another column. Lets look at an example:\n",
        "\n",
        "\\begin{align}\n",
        "C =\\begin{bmatrix}\n",
        "  1 & 5 & 2 \\\\\n",
        "  2 & 7 & 4 \\\\\n",
        "  3 & 2 & 6\n",
        "\\end{bmatrix}\n",
        "\\end{align}\n",
        "\n",
        "Look at the columns of the above matrix, column 3 is exactly double column 1. (could be any multiple or fraction) Think about if you had some measure in a dataset of distance in miles, but then you also wanted to convert its units to feet, so you create another column and multiply the mile measure by 5,280 (Thanks Imperial System). But then you forget to drop one of the columns so you end up with two columns that are linearly dependent which causes the determinant of your dataframe to be 0 and will cause certain algorithms to fail. We'll go deeper into this concept next week (this can cause problems with linear regression) so just know that matrices that have columns that are a multiple or fraction of another column will cause the determinant of that matrix to be 0."
      ]
    },
    {
      "cell_type": "markdown",
      "metadata": {
        "id": "2Q0YqSGF-9vI",
        "colab_type": "text"
      },
      "source": [
        "## Challenge\n",
        "\n",
        "Square Matrices have many important properties like the inverse and determinant that we will be using in the future. For more details about the implications of a square matrix having an inverse you can try googling the \"Invertible Matrix Theorem\" mastering and proving the different partso of this theorem is one of the main focuses of traditional linear algebra education."
      ]
    },
    {
      "cell_type": "markdown",
      "metadata": {
        "id": "z_fYkKbT8MGj",
        "colab_type": "text"
      },
      "source": [
        "# [Doing Linear Algebra with NumPy](#linear-algebra-NumPy)\n",
        "\n",
        "Student can use NumPy to perform basic Linear Algebra operations with Python.\n"
      ]
    },
    {
      "cell_type": "markdown",
      "metadata": {
        "id": "VL30GAl-tcpl",
        "colab_type": "text"
      },
      "source": [
        "## Overview\n",
        "\n",
        "NumPy is at the core of many types of scientific computing and is the main tool that we will use to perform Linear Algebra operations with Python. \n",
        "\n",
        "We have talked about how vectors are a lot like Python Lists, however we will mostly use NumPy arrays instead of Python lists as the main data structure. Lets demonstrate some of the main differences betwen Python lists and NumPy Arrays."
      ]
    },
    {
      "cell_type": "code",
      "metadata": {
        "id": "3FJDPjwytDfZ",
        "colab_type": "code",
        "colab": {}
      },
      "source": [
        "### What will happen when I add the two Python lists together?\n"
      ],
      "execution_count": 0,
      "outputs": []
    },
    {
      "cell_type": "code",
      "metadata": {
        "id": "SFtJF1symxuY",
        "colab_type": "code",
        "colab": {}
      },
      "source": [
        "# Lets create two 1-Dimensional NumPy arrays and add them together?\n",
        "# What do you think the result will be?\n",
        "\n",
        "# Array Broadcasting\n",
        "# Doing some arithmetic operation to vectors \"element-wise\"\n"
      ],
      "execution_count": 0,
      "outputs": []
    },
    {
      "cell_type": "markdown",
      "metadata": {
        "id": "wVuKmynAm5qF",
        "colab_type": "text"
      },
      "source": [
        "What we have just demonstrated is one of the primary benefits of NumPy and it is called \"Array Broadcasting\" This means that arithmetic operations happen \"element-wise\""
      ]
    },
    {
      "cell_type": "code",
      "metadata": {
        "id": "dIOBi3uznKnx",
        "colab_type": "code",
        "colab": {}
      },
      "source": [
        ""
      ],
      "execution_count": 0,
      "outputs": []
    },
    {
      "cell_type": "code",
      "metadata": {
        "id": "Qd5bsOXUnNL2",
        "colab_type": "code",
        "colab": {}
      },
      "source": [
        ""
      ],
      "execution_count": 0,
      "outputs": []
    },
    {
      "cell_type": "code",
      "metadata": {
        "id": "vLSUyDEYnPMo",
        "colab_type": "code",
        "colab": {}
      },
      "source": [
        ""
      ],
      "execution_count": 0,
      "outputs": []
    },
    {
      "cell_type": "markdown",
      "metadata": {
        "id": "iqjRIRFItg3X",
        "colab_type": "text"
      },
      "source": [
        "## Follow Along\n",
        "\n",
        "Lets calculate a dot product. What do we need to do? We need to multiply two vectors \"element-wise\" and them sum up all of those products"
      ]
    },
    {
      "cell_type": "code",
      "metadata": {
        "id": "ZcGlUN55qoGt",
        "colab_type": "code",
        "colab": {}
      },
      "source": [
        "# Find the dot product of vectos a and b\n",
        "\n",
        "# Dot Product\n"
      ],
      "execution_count": 0,
      "outputs": []
    },
    {
      "cell_type": "markdown",
      "metadata": {
        "id": "p1BE4P3lnr1-",
        "colab_type": "text"
      },
      "source": [
        "We can also use provided linear algebra functions from the [np.linalg](https://docs.scipy.org/doc/numpy-1.15.1/reference/routines.linalg.html) documentation in order to perform Linear Algebra processes."
      ]
    },
    {
      "cell_type": "code",
      "metadata": {
        "id": "cqDPG2GCoFFR",
        "colab_type": "code",
        "colab": {}
      },
      "source": [
        ""
      ],
      "execution_count": 0,
      "outputs": []
    },
    {
      "cell_type": "markdown",
      "metadata": {
        "id": "yh5x6DXVouPW",
        "colab_type": "text"
      },
      "source": [
        "### 1-Dimensional vs 2-Dimensional NumPy Arrays\n",
        "\n",
        "One dimensional NumPy arrays can be used to represent vectors but cannot be used to differentiate between row and column vectors.\n",
        "\n",
        "\\begin{align}\n",
        "\\text{column vector} = \\begin{bmatrix}1 \\\\ 2 \\\\ 3\\end{bmatrix}\n",
        "\\end{align}\n",
        "\n",
        "\\begin{align}\n",
        "\\text{row vector} = \\begin{bmatrix} 1 & 2 & 3\\end{bmatrix}\n",
        "\\end{align}\n",
        "\n",
        "Notice that one dimensional arrays do not have a second element listed for their shape. so that there is no way to tell if they represent column vectors or row vectors"
      ]
    },
    {
      "cell_type": "code",
      "metadata": {
        "id": "clrA_q4PpXgk",
        "colab_type": "code",
        "outputId": "532e3a60-5df0-4d27-a793-3c818043f535",
        "colab": {
          "base_uri": "https://localhost:8080/",
          "height": 34
        }
      },
      "source": [
        "# You cannot differentiate between row and column vectors with a 1D numpy array\n",
        "onedim_array = np.array([1,2,3])\n",
        "\n",
        "onedim_array.shape"
      ],
      "execution_count": 0,
      "outputs": [
        {
          "output_type": "execute_result",
          "data": {
            "text/plain": [
              "(3,)"
            ]
          },
          "metadata": {
            "tags": []
          },
          "execution_count": 27
        }
      ]
    },
    {
      "cell_type": "code",
      "metadata": {
        "id": "RrmCLJXlqZLb",
        "colab_type": "code",
        "colab": {}
      },
      "source": [
        "# Notice how only the number of items in the array is listed\n",
        "onedim_array.shape"
      ],
      "execution_count": 0,
      "outputs": []
    },
    {
      "cell_type": "code",
      "metadata": {
        "id": "Dt6h6fMQqy6N",
        "colab_type": "code",
        "outputId": "fedcaca6-2c01-46cc-ac91-467cfac627c2",
        "colab": {
          "base_uri": "https://localhost:8080/",
          "height": 34
        }
      },
      "source": [
        "# And if we swap rows and columns the shape does not change\n",
        "onedim_array.T.shape"
      ],
      "execution_count": 0,
      "outputs": [
        {
          "output_type": "execute_result",
          "data": {
            "text/plain": [
              "(3,)"
            ]
          },
          "metadata": {
            "tags": []
          },
          "execution_count": 29
        }
      ]
    },
    {
      "cell_type": "markdown",
      "metadata": {
        "id": "LXOIB20Lq2j0",
        "colab_type": "text"
      },
      "source": [
        "### If I explicitly want a row of column vector then I need to use a 2D NumPy Array"
      ]
    },
    {
      "cell_type": "code",
      "metadata": {
        "id": "CAMZw2Eqq6e5",
        "colab_type": "code",
        "colab": {}
      },
      "source": [
        "row_vector = np.array([[1,2,3]])\n",
        "\n",
        "column_vector = np.array([[1],\n",
        "                          [2],\n",
        "                          [3]])"
      ],
      "execution_count": 0,
      "outputs": []
    },
    {
      "cell_type": "code",
      "metadata": {
        "id": "8m13WOOgzl3d",
        "colab_type": "code",
        "outputId": "048f3cf4-d350-49d0-b4cf-60f59418d68e",
        "colab": {
          "base_uri": "https://localhost:8080/",
          "height": 34
        }
      },
      "source": [
        "row_vector.shape"
      ],
      "execution_count": 0,
      "outputs": [
        {
          "output_type": "execute_result",
          "data": {
            "text/plain": [
              "(1, 3)"
            ]
          },
          "metadata": {
            "tags": []
          },
          "execution_count": 31
        }
      ]
    },
    {
      "cell_type": "code",
      "metadata": {
        "id": "f1cQqAmBznWR",
        "colab_type": "code",
        "outputId": "4344405a-aa2a-4f67-dcf6-2f644877880c",
        "colab": {
          "base_uri": "https://localhost:8080/",
          "height": 67
        }
      },
      "source": [
        "row_vector.T"
      ],
      "execution_count": 0,
      "outputs": [
        {
          "output_type": "execute_result",
          "data": {
            "text/plain": [
              "array([[1],\n",
              "       [2],\n",
              "       [3]])"
            ]
          },
          "metadata": {
            "tags": []
          },
          "execution_count": 32
        }
      ]
    },
    {
      "cell_type": "code",
      "metadata": {
        "id": "_8o5OJh9zppx",
        "colab_type": "code",
        "outputId": "6e5c2bf8-6574-4afe-85cb-bf827796ed2d",
        "colab": {
          "base_uri": "https://localhost:8080/",
          "height": 34
        }
      },
      "source": [
        "row_vector.T.shape"
      ],
      "execution_count": 0,
      "outputs": [
        {
          "output_type": "execute_result",
          "data": {
            "text/plain": [
              "(3, 1)"
            ]
          },
          "metadata": {
            "tags": []
          },
          "execution_count": 33
        }
      ]
    },
    {
      "cell_type": "markdown",
      "metadata": {
        "id": "-CaNxeTao4ZQ",
        "colab_type": "text"
      },
      "source": [
        "### Only use NumPy Arrans, DO NOT use the NumPy Matrix class.\n",
        "\n",
        "NumPy has a matrix class which can be used for representing matrices. However, I don't want you to use that datatype because it will be removed from NumPy in the future. However, I want you to be aware that this other datatype exists so that you don't get confused when you look at stack overflow posts or other tutorials that use the matrix datatype. Keep an eye out for resources that use it and just know that they will soon be outdated. Anything that can be done with the matrix class can also be done with simple NumPY arrays."
      ]
    },
    {
      "cell_type": "code",
      "metadata": {
        "id": "omwR_dinrAzW",
        "colab_type": "code",
        "outputId": "19bbc300-3382-4d40-f05c-42786597292c",
        "colab": {
          "base_uri": "https://localhost:8080/",
          "height": 50
        }
      },
      "source": [
        "# Do not work with this datatype\n",
        "# This will be removed from NumPy in the future\n",
        "matrix = np.matrix('1 2; 3 4')\n",
        "matrix"
      ],
      "execution_count": 0,
      "outputs": [
        {
          "output_type": "execute_result",
          "data": {
            "text/plain": [
              "matrix([[1, 2],\n",
              "        [3, 4]])"
            ]
          },
          "metadata": {
            "tags": []
          },
          "execution_count": 34
        }
      ]
    },
    {
      "cell_type": "code",
      "metadata": {
        "id": "Jc0AVYysrCnu",
        "colab_type": "code",
        "outputId": "87d4915a-1cc4-418f-b966-0e8d6244c156",
        "colab": {
          "base_uri": "https://localhost:8080/",
          "height": 50
        }
      },
      "source": [
        "matrix.T"
      ],
      "execution_count": 0,
      "outputs": [
        {
          "output_type": "execute_result",
          "data": {
            "text/plain": [
              "matrix([[1, 3],\n",
              "        [2, 4]])"
            ]
          },
          "metadata": {
            "tags": []
          },
          "execution_count": 36
        }
      ]
    },
    {
      "cell_type": "code",
      "metadata": {
        "id": "mJuJLkWBrEae",
        "colab_type": "code",
        "outputId": "5509b21a-0fb9-4899-b5c3-0b2fc0e7595d",
        "colab": {
          "base_uri": "https://localhost:8080/",
          "height": 50
        }
      },
      "source": [
        "matrix.I"
      ],
      "execution_count": 0,
      "outputs": [
        {
          "output_type": "execute_result",
          "data": {
            "text/plain": [
              "matrix([[-2. ,  1. ],\n",
              "        [ 1.5, -0.5]])"
            ]
          },
          "metadata": {
            "tags": []
          },
          "execution_count": 37
        }
      ]
    },
    {
      "cell_type": "code",
      "metadata": {
        "id": "82IobIitrGVD",
        "colab_type": "code",
        "outputId": "89ad17f9-a901-4825-e2bb-4f924ff25af8",
        "colab": {
          "base_uri": "https://localhost:8080/",
          "height": 50
        }
      },
      "source": [
        "# Matrix as a NumPy Array\n",
        "\n",
        "# ndarrays\n",
        "array = np.array([[1,2],[3,4]])\n",
        "array"
      ],
      "execution_count": 0,
      "outputs": [
        {
          "output_type": "execute_result",
          "data": {
            "text/plain": [
              "array([[1, 2],\n",
              "       [3, 4]])"
            ]
          },
          "metadata": {
            "tags": []
          },
          "execution_count": 35
        }
      ]
    },
    {
      "cell_type": "code",
      "metadata": {
        "id": "irmsHsjOrJM4",
        "colab_type": "code",
        "outputId": "312a400f-c790-49b9-8759-1237c34a4d5d",
        "colab": {
          "base_uri": "https://localhost:8080/",
          "height": 50
        }
      },
      "source": [
        "array.T"
      ],
      "execution_count": 0,
      "outputs": [
        {
          "output_type": "execute_result",
          "data": {
            "text/plain": [
              "array([[1, 3],\n",
              "       [2, 4]])"
            ]
          },
          "metadata": {
            "tags": []
          },
          "execution_count": 38
        }
      ]
    },
    {
      "cell_type": "code",
      "metadata": {
        "id": "SaEc-xYyrNLi",
        "colab_type": "code",
        "outputId": "6b6c16b3-4629-446c-c200-095bc708c235",
        "colab": {
          "base_uri": "https://localhost:8080/",
          "height": 162
        }
      },
      "source": [
        "array.I"
      ],
      "execution_count": 0,
      "outputs": [
        {
          "output_type": "error",
          "ename": "AttributeError",
          "evalue": "ignored",
          "traceback": [
            "\u001b[0;31m---------------------------------------------------------------------------\u001b[0m",
            "\u001b[0;31mAttributeError\u001b[0m                            Traceback (most recent call last)",
            "\u001b[0;32m<ipython-input-39-04a9b08e6254>\u001b[0m in \u001b[0;36m<module>\u001b[0;34m()\u001b[0m\n\u001b[0;32m----> 1\u001b[0;31m \u001b[0marray\u001b[0m\u001b[0;34m.\u001b[0m\u001b[0mI\u001b[0m\u001b[0;34m\u001b[0m\u001b[0;34m\u001b[0m\u001b[0m\n\u001b[0m",
            "\u001b[0;31mAttributeError\u001b[0m: 'numpy.ndarray' object has no attribute 'I'"
          ]
        }
      ]
    },
    {
      "cell_type": "code",
      "metadata": {
        "id": "uXEg00GGs4hA",
        "colab_type": "code",
        "colab": {}
      },
      "source": [
        ""
      ],
      "execution_count": 0,
      "outputs": []
    },
    {
      "cell_type": "markdown",
      "metadata": {
        "id": "YX3kcdK9tjIy",
        "colab_type": "text"
      },
      "source": [
        "## Challenge\n",
        "\n",
        "In your afternoon assignment you will perform many different linear algebra functions using NumPy. Many of which will be done easily by using these [Helpful NumPy Linear Algebra Functions](https://numpy.org/doc/1.18/reference/routines.linalg.html) found in the NumPy documentation."
      ]
    },
    {
      "cell_type": "markdown",
      "metadata": {
        "id": "Q0YtPR54tmW0",
        "colab_type": "text"
      },
      "source": [
        "# Review\n",
        "\n",
        "Lets good at working with vectors and matrices with NumPy!\n",
        "\n",
        "Remember that you'll need many functions from [the documentation](https://docs.scipy.org/doc/numpy-1.15.1/reference/routines.linalg.html) in order to complete the assignment\n",
        "\n",
        "Remember to use 2D NumPy arrays to represent row/column vectors as well as matrices and please share any helpful resources that you find in the cohort channel."
      ]
    }
  ]
}